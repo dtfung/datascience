{
 "cells": [
  {
   "cell_type": "markdown",
   "metadata": {
    "collapsed": false
   },
   "source": [
    "# Data Science Bowl 2017 - Improve Lung Cancer Detection\n",
    "\n",
    "The Data Science Bowl, presented by Booz Allen and Kaggle, is a data science for social good competition.  It's open to data scientists, technologists, domain experts, and organizations to take on the world’s challenges with data and technology.  In this year's competition, the challenge is to use machine learning to quickly detect lung cancer.  I chose to do this competition to flex my machine learning skills to tackle an issue that is affecting hundreds of thousands of people per year.  \n",
    "\n",
    "## Background:\n",
    "\n",
    "In the United States, lung cancer strikes 225,000 people every year, and accounts for $12 billion in health care costs. Early detection is critical to give patients the best chance at recovery and survival.  According to the [National Institutes of Health(NIH)](https://www.nih.gov/), 20% of lung cancer deaths can be reduced with early detection.  There is also a high number of false positive rates that result from existing image assessments.  This means that there's a high number of lung lesions that are diagnosed as cancerous that later turn out to be benign.  This leads to patient anxiety and the added cost of follow-up imaging and treatments that may not be needed at all.  \n",
    "\n",
    "## The Data\n",
    "\n",
    "The [National Cancer Institute](https://www.cancer.gov/) provided [data](https://www.kaggle.com/c/data-science-bowl-2017/data) containing thousands of lung scans, which I will explore first.  The [competition rules](https://www.kaggle.com/c/data-science-bowl-2017/rules) also allows for use of external data.  \n"
   ]
  },
  {
   "cell_type": "code",
   "execution_count": null,
   "metadata": {
    "collapsed": true
   },
   "outputs": [],
   "source": [
    "def set_sys_path(directory):\n",
    "    '''Sets directory as default path'''\n",
    "    sys.path.insert(0, directory)"
   ]
  },
  {
   "cell_type": "code",
   "execution_count": null,
   "metadata": {
    "collapsed": true
   },
   "outputs": [],
   "source": []
  }
 ],
 "metadata": {
  "anaconda-cloud": {},
  "kernelspec": {
   "display_name": "Python [default]",
   "language": "python",
   "name": "python3"
  },
  "language_info": {
   "codemirror_mode": {
    "name": "ipython",
    "version": 3
   },
   "file_extension": ".py",
   "mimetype": "text/x-python",
   "name": "python",
   "nbconvert_exporter": "python",
   "pygments_lexer": "ipython3",
   "version": "3.5.2"
  }
 },
 "nbformat": 4,
 "nbformat_minor": 1
}
